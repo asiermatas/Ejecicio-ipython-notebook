{
 "cells": [
  {
   "cell_type": "code",
   "execution_count": 14,
   "metadata": {
    "collapsed": true
   },
   "outputs": [],
   "source": [
    "#Carga los datos como un DataFrame fusionando los ficheros en uno solo"
   ]
  },
  {
   "cell_type": "code",
   "execution_count": 15,
   "metadata": {
    "collapsed": false
   },
   "outputs": [],
   "source": [
    "import pandas as panda\n",
    "import numpy as num\n",
    "import matplotlib.pyplot as plot"
   ]
  },
  {
   "cell_type": "code",
   "execution_count": 16,
   "metadata": {
    "collapsed": true
   },
   "outputs": [],
   "source": [
    "stamp = panda.read_csv(\"BITSTAMP.csv\", sep = \";\", decimal=\",\", parse_dates=[\"Date\"], header=0, names=[\"Date\", \"Value_bitstamp\"])\n",
    "coin = panda.read_csv(\"COINBASE.csv\", sep = \";\", decimal=\",\", parse_dates=[\"Date\"], header=0, names=[\"Date\", \"Value_bicoin\"])\n",
    "bit = panda.read_csv(\"ITBIT.csv\", sep = \";\", decimal=\",\", parse_dates=[\"Date\"], header=0, names=[\"Date\", \"Value_itbit\"])"
   ]
  },
  {
   "cell_type": "code",
   "execution_count": 17,
   "metadata": {
    "collapsed": false
   },
   "outputs": [
    {
     "name": "stdout",
     "output_type": "stream",
     "text": [
      "          Date  Value_bitstamp\n",
      "0   2016-07-19        674.1899\n",
      "1   2016-07-18        673.9901\n",
      "2   2016-07-17        680.6801\n",
      "3   2016-07-16        661.7701\n",
      "4   2016-07-15        667.7401\n",
      "5   2016-07-14        660.5701\n",
      "6   2016-07-13        661.0201\n",
      "7   2016-12-07        668.5801\n",
      "8   2016-11-07        647.6901\n",
      "9   2016-10-07        647.7601\n",
      "10  2016-09-07        640.0101\n",
      "11  2016-08-07        658.6101\n",
      "12  2016-07-07        619.0901\n",
      "13  2016-06-07        675.2601\n",
      "14  2016-05-07        669.5801\n",
      "15  2016-04-07        674.7601\n",
      "16  2016-03-07        660.0001\n",
      "17  2016-02-07        695.2101\n",
      "18  2016-01-07        675.5501\n",
      "19  2016-06-30        660.6201\n",
      "20  2016-06-29        633.8101\n",
      "21  2016-06-28        647.0001\n",
      "22  2016-06-27        643.9201\n",
      "23  2016-06-26        629.9700\n",
      "24  2016-06-25        653.0201\n",
      "25  2016-06-24        652.1301\n",
      "26  2016-06-23        612.0401\n",
      "27  2016-06-22        610.9001\n",
      "28  2016-06-21        647.0001\n",
      "29  2016-06-20        738.4901\n",
      "..         ...             ...\n",
      "337 2015-08-17        257.6400\n",
      "338 2015-08-16        255.3800\n",
      "339 2015-08-15        263.5900\n",
      "340 2015-08-14        266.5000\n",
      "341 2015-08-13        265.4500\n",
      "342 2015-12-08        270.1300\n",
      "343 2015-11-08        266.2300\n",
      "344 2015-10-08        264.8400\n",
      "345 2015-09-08        262.8700\n",
      "346 2015-08-08        269.3600\n",
      "347 2015-07-08        279.8100\n",
      "348 2015-06-08        278.3500\n",
      "349 2015-05-08        282.0900\n",
      "350 2015-04-08        285.1400\n",
      "351 2015-03-08        283.7700\n",
      "352 2015-02-08        281.7700\n",
      "353 2015-01-08        281.0300\n",
      "354 2015-07-31        284.5300\n",
      "355 2015-07-30        287.5300\n",
      "356 2015-07-29        291.0000\n",
      "357 2015-07-28        294.7500\n",
      "358 2015-07-27        295.4600\n",
      "359 2015-07-26        292.0600\n",
      "360 2015-07-25        289.9600\n",
      "361 2015-07-24        288.0100\n",
      "362 2015-07-23        277.0600\n",
      "363 2015-07-22        276.6000\n",
      "364 2015-07-21        279.5200\n",
      "365 2015-07-20        277.7300\n",
      "366 2015-07-19        276.0900\n",
      "\n",
      "[367 rows x 2 columns]\n",
      "          Date  Value_bicoin\n",
      "0   2016-07-19      676.0701\n",
      "1   2016-07-18      672.2901\n",
      "2   2016-07-17      680.2801\n",
      "3   2016-07-16      666.4901\n",
      "4   2016-07-15      669.8701\n",
      "5   2016-07-14      661.2801\n",
      "6   2016-07-13      660.5501\n",
      "7   2016-12-07      668.7301\n",
      "8   2016-11-07      650.1101\n",
      "9   2016-10-07      651.8101\n",
      "10  2016-09-07      645.4501\n",
      "11  2016-08-07      661.5701\n",
      "12  2016-07-07      623.2901\n",
      "13  2016-06-07      675.3101\n",
      "14  2016-05-07      671.5201\n",
      "15  2016-04-07      678.4601\n",
      "16  2016-03-07      666.0401\n",
      "17  2016-02-07      697.5401\n",
      "18  2016-01-07      678.2401\n",
      "19  2016-06-30      665.7501\n",
      "20  2016-06-29      638.2200\n",
      "21  2016-06-28      648.2901\n",
      "22  2016-06-27      647.8601\n",
      "23  2016-06-26      644.3001\n",
      "24  2016-06-25      665.4301\n",
      "25  2016-06-24      661.4601\n",
      "26  2016-06-23      619.2701\n",
      "27  2016-06-22      611.1101\n",
      "28  2016-06-21      654.4601\n",
      "29  2016-06-20      740.6901\n",
      "..         ...           ...\n",
      "336 2015-08-17      258.6700\n",
      "337 2015-08-16      258.6400\n",
      "338 2015-08-15      264.3600\n",
      "339 2015-08-14      267.6100\n",
      "340 2015-08-13      266.1700\n",
      "341 2015-12-08      270.1100\n",
      "342 2015-11-08      266.9400\n",
      "343 2015-10-08      266.2700\n",
      "344 2015-09-08      264.2700\n",
      "345 2015-08-08      269.1800\n",
      "346 2015-07-08      280.5200\n",
      "347 2015-06-08      279.0700\n",
      "348 2015-05-08      282.5100\n",
      "349 2015-04-08      286.8600\n",
      "350 2015-03-08      282.9500\n",
      "351 2015-02-08      282.7000\n",
      "352 2015-01-08      281.8300\n",
      "353 2015-07-31      284.8900\n",
      "354 2015-07-30      287.9200\n",
      "355 2015-07-29      292.1300\n",
      "356 2015-07-28      295.8400\n",
      "357 2015-07-27      295.8900\n",
      "358 2015-07-26      293.7600\n",
      "359 2015-07-25      290.0700\n",
      "360 2015-07-24      289.3500\n",
      "361 2015-07-23      276.5000\n",
      "362 2015-07-22      277.6100\n",
      "363 2015-07-21      280.1700\n",
      "364 2015-07-20      277.6300\n",
      "365 2015-07-19      276.9800\n",
      "\n",
      "[366 rows x 2 columns]\n",
      "          Date  Value_itbit\n",
      "0   2016-07-19     673.6201\n",
      "1   2016-07-18     673.1901\n",
      "2   2016-07-17     672.3301\n",
      "3   2016-07-16     663.0401\n",
      "4   2016-07-15     666.9901\n",
      "5   2016-07-14     660.4301\n",
      "6   2016-07-13     663.0001\n",
      "7   2016-12-07     667.9401\n",
      "8   2016-11-07     651.2801\n",
      "9   2016-10-07     649.1101\n",
      "10  2016-09-07     641.4801\n",
      "11  2016-08-07     660.6801\n",
      "12  2016-07-07     620.9001\n",
      "13  2016-06-07     674.7301\n",
      "14  2016-05-07     670.2901\n",
      "15  2016-04-07     676.2801\n",
      "16  2016-03-07     660.5801\n",
      "17  2016-02-07     696.9901\n",
      "18  2016-01-07     677.7101\n",
      "19  2016-06-30     664.8101\n",
      "20  2016-06-29     639.5401\n",
      "21  2016-06-28     647.7701\n",
      "22  2016-06-27     643.0701\n",
      "23  2016-06-26     634.0801\n",
      "24  2016-06-25     656.0101\n",
      "25  2016-06-24     657.8701\n",
      "26  2016-06-23     612.8701\n",
      "27  2016-06-22     613.5801\n",
      "28  2016-06-21     651.0801\n",
      "29  2016-06-20     741.0001\n",
      "..         ...          ...\n",
      "337 2015-08-17     258.3300\n",
      "338 2015-08-16     257.1000\n",
      "339 2015-08-15     263.7800\n",
      "340 2015-08-14     266.4800\n",
      "341 2015-08-13     265.2800\n",
      "342 2015-12-08     269.9900\n",
      "343 2015-11-08     266.6900\n",
      "344 2015-10-08     265.2000\n",
      "345 2015-09-08     263.2200\n",
      "346 2015-08-08     269.0200\n",
      "347 2015-07-08     279.6800\n",
      "348 2015-06-08     278.9200\n",
      "349 2015-05-08     282.5800\n",
      "350 2015-04-08     285.3600\n",
      "351 2015-03-08     283.8600\n",
      "352 2015-02-08     281.2600\n",
      "353 2015-01-08     280.2500\n",
      "354 2015-07-31     284.3600\n",
      "355 2015-07-30     287.6500\n",
      "356 2015-07-29     291.8800\n",
      "357 2015-07-28     296.5000\n",
      "358 2015-07-27     294.3900\n",
      "359 2015-07-26     291.0000\n",
      "360 2015-07-25     288.4000\n",
      "361 2015-07-24     287.5100\n",
      "362 2015-07-23     276.4700\n",
      "363 2015-07-22     276.5600\n",
      "364 2015-07-21     278.4900\n",
      "365 2015-07-20     276.4700\n",
      "366 2015-07-19     274.8900\n",
      "\n",
      "[367 rows x 2 columns]\n"
     ]
    }
   ],
   "source": [
    "print stamp\n",
    "print coin\n",
    "print bit"
   ]
  },
  {
   "cell_type": "code",
   "execution_count": 18,
   "metadata": {
    "collapsed": true
   },
   "outputs": [],
   "source": [
    "#Carga los datos como un DataFrame fusionando los ficheros en uno solo."
   ]
  },
  {
   "cell_type": "code",
   "execution_count": 19,
   "metadata": {
    "collapsed": false
   },
   "outputs": [],
   "source": [
    "bittwo=panda.merge(stamp, coin, on=\"Date\", how=\"inner\")"
   ]
  },
  {
   "cell_type": "code",
   "execution_count": 20,
   "metadata": {
    "collapsed": true
   },
   "outputs": [],
   "source": [
    "bitall=panda.merge(bittwo, bit, on=\"Date\", how=\"inner\")"
   ]
  },
  {
   "cell_type": "code",
   "execution_count": 21,
   "metadata": {
    "collapsed": true
   },
   "outputs": [],
   "source": [
    "#Utiliza como índice la fecha de cotización"
   ]
  },
  {
   "cell_type": "code",
   "execution_count": 22,
   "metadata": {
    "collapsed": true
   },
   "outputs": [],
   "source": [
    "bitall=bitall.set_index(\"Date\")"
   ]
  },
  {
   "cell_type": "code",
   "execution_count": 23,
   "metadata": {
    "collapsed": false
   },
   "outputs": [],
   "source": [
    "bitall.sort_index(inplace=True)"
   ]
  },
  {
   "cell_type": "code",
   "execution_count": 24,
   "metadata": {
    "collapsed": false
   },
   "outputs": [
    {
     "name": "stdout",
     "output_type": "stream",
     "text": [
      "            Value_bitstamp  Value_bicoin  Value_itbit\n",
      "Date                                                 \n",
      "2015-01-08          281.03        281.83       280.25\n",
      "2015-01-09          226.95        227.16       226.83\n",
      "2015-01-10          238.18        238.97       238.40\n",
      "2015-01-11          324.05        327.22       326.58\n",
      "2015-01-12          360.93        360.40       362.94\n",
      "2015-02-08          281.77        282.70       281.26\n",
      "2015-02-09          229.04        229.52       229.13\n",
      "2015-02-10          237.62        237.82       237.67\n",
      "2015-02-11          364.00        364.12       352.83\n",
      "2015-02-12          361.58        360.80       360.49\n"
     ]
    }
   ],
   "source": [
    "print bitall.head(10)"
   ]
  },
  {
   "cell_type": "code",
   "execution_count": 25,
   "metadata": {
    "collapsed": true
   },
   "outputs": [],
   "source": [
    "#Obtén los día de máximo y mínimo valor de cotización"
   ]
  },
  {
   "cell_type": "code",
   "execution_count": 68,
   "metadata": {
    "collapsed": false
   },
   "outputs": [
    {
     "data": {
      "text/plain": [
       "Timestamp('2016-06-16 00:00:00')"
      ]
     },
     "execution_count": 68,
     "metadata": {},
     "output_type": "execute_result"
    }
   ],
   "source": [
    "# dia máximo cotización stamp\n",
    "date_stamp_max= bitall[\"Value_bitstamp\"].idxmax()\n",
    "date_stamp_max"
   ]
  },
  {
   "cell_type": "code",
   "execution_count": 69,
   "metadata": {
    "collapsed": false
   },
   "outputs": [
    {
     "data": {
      "text/plain": [
       "Timestamp('2016-06-16 00:00:00')"
      ]
     },
     "execution_count": 69,
     "metadata": {},
     "output_type": "execute_result"
    }
   ],
   "source": [
    "# dia máximo cotización coin\n",
    "date_coin_max= bitall[\"Value_bicoin\"].idxmax()\n",
    "date_coin_max"
   ]
  },
  {
   "cell_type": "code",
   "execution_count": 70,
   "metadata": {
    "collapsed": false
   },
   "outputs": [
    {
     "data": {
      "text/plain": [
       "Timestamp('2016-06-16 00:00:00')"
      ]
     },
     "execution_count": 70,
     "metadata": {},
     "output_type": "execute_result"
    }
   ],
   "source": [
    "# dia máximo cotización itbit\n",
    "date_bit_max= bitall[\"Value_itbit\"].idxmax()\n",
    "date_bit_max"
   ]
  },
  {
   "cell_type": "code",
   "execution_count": 71,
   "metadata": {
    "collapsed": false
   },
   "outputs": [
    {
     "data": {
      "text/plain": [
       "Timestamp('2015-08-24 00:00:00')"
      ]
     },
     "execution_count": 71,
     "metadata": {},
     "output_type": "execute_result"
    }
   ],
   "source": [
    "# dia mínimo cotización stamp\n",
    "date_stamp_min= bitall[\"Value_bitstamp\"].idxmin()\n",
    "date_stamp_min"
   ]
  },
  {
   "cell_type": "code",
   "execution_count": 72,
   "metadata": {
    "collapsed": false
   },
   "outputs": [
    {
     "data": {
      "text/plain": [
       "Timestamp('2015-08-24 00:00:00')"
      ]
     },
     "execution_count": 72,
     "metadata": {},
     "output_type": "execute_result"
    }
   ],
   "source": [
    "# dia mínimo cotización coin\n",
    "date_coin_min= bitall[\"Value_bicoin\"].idxmin()\n",
    "date_coin_min"
   ]
  },
  {
   "cell_type": "code",
   "execution_count": 73,
   "metadata": {
    "collapsed": false
   },
   "outputs": [
    {
     "data": {
      "text/plain": [
       "Timestamp('2015-08-24 00:00:00')"
      ]
     },
     "execution_count": 73,
     "metadata": {},
     "output_type": "execute_result"
    }
   ],
   "source": [
    "# dia mínimo cotización itbit\n",
    "date_bit_min= bitall[\"Value_bicoin\"].idxmin()\n",
    "date_bit_min"
   ]
  },
  {
   "cell_type": "code",
   "execution_count": 33,
   "metadata": {
    "collapsed": true
   },
   "outputs": [],
   "source": [
    "# un gráfico con la media móvil (“rolling mean”) simple (https://en.wikipedia.org/wiki/Moving_average) de los valores de\n",
    "# una de las series (puedes probar con varios valores de n)."
   ]
  },
  {
   "cell_type": "code",
   "execution_count": 77,
   "metadata": {
    "collapsed": false
   },
   "outputs": [
    {
     "data": {
      "text/html": [
       "<div>\n",
       "<table border=\"1\" class=\"dataframe\">\n",
       "  <thead>\n",
       "    <tr style=\"text-align: right;\">\n",
       "      <th></th>\n",
       "      <th>Value_bitstamp</th>\n",
       "      <th>Value_bicoin</th>\n",
       "      <th>Value_itbit</th>\n",
       "      <th>stamp_bit</th>\n",
       "      <th>stamp_coin</th>\n",
       "      <th>coin_it</th>\n",
       "    </tr>\n",
       "    <tr>\n",
       "      <th>Date</th>\n",
       "      <th></th>\n",
       "      <th></th>\n",
       "      <th></th>\n",
       "      <th></th>\n",
       "      <th></th>\n",
       "      <th></th>\n",
       "    </tr>\n",
       "  </thead>\n",
       "  <tbody>\n",
       "    <tr>\n",
       "      <th>2015-01-08</th>\n",
       "      <td>281.03</td>\n",
       "      <td>281.83</td>\n",
       "      <td>280.25</td>\n",
       "      <td>0.78</td>\n",
       "      <td>-0.80</td>\n",
       "      <td>1.58</td>\n",
       "    </tr>\n",
       "    <tr>\n",
       "      <th>2015-01-09</th>\n",
       "      <td>226.95</td>\n",
       "      <td>227.16</td>\n",
       "      <td>226.83</td>\n",
       "      <td>0.12</td>\n",
       "      <td>-0.21</td>\n",
       "      <td>0.33</td>\n",
       "    </tr>\n",
       "  </tbody>\n",
       "</table>\n",
       "</div>"
      ],
      "text/plain": [
       "            Value_bitstamp  Value_bicoin  Value_itbit  stamp_bit  stamp_coin  \\\n",
       "Date                                                                           \n",
       "2015-01-08          281.03        281.83       280.25       0.78       -0.80   \n",
       "2015-01-09          226.95        227.16       226.83       0.12       -0.21   \n",
       "\n",
       "            coin_it  \n",
       "Date                 \n",
       "2015-01-08     1.58  \n",
       "2015-01-09     0.33  "
      ]
     },
     "execution_count": 77,
     "metadata": {},
     "output_type": "execute_result"
    }
   ],
   "source": [
    "import numpy as num\n",
    "\n",
    "bitall.head(2)"
   ]
  },
  {
   "cell_type": "code",
   "execution_count": 78,
   "metadata": {
    "collapsed": false
   },
   "outputs": [],
   "source": [
    "bitall.sort_index(inplace=True)"
   ]
  },
  {
   "cell_type": "code",
   "execution_count": 79,
   "metadata": {
    "collapsed": false
   },
   "outputs": [
    {
     "name": "stdout",
     "output_type": "stream",
     "text": [
      "Date\n",
      "2015-01-08   NaN\n",
      "2015-01-09   NaN\n",
      "Name: Value_bitstamp, dtype: float64\n"
     ]
    }
   ],
   "source": [
    "Media_mov=bitall.Value_bitstamp.rolling(min_periods=30,window=30,center=False).mean()\n",
    "print Media_mov.head(2)"
   ]
  },
  {
   "cell_type": "code",
   "execution_count": 80,
   "metadata": {
    "collapsed": false
   },
   "outputs": [
    {
     "name": "stdout",
     "output_type": "stream",
     "text": [
      "            Value_bitstamp\n",
      "Date                      \n",
      "2015-01-08             NaN\n",
      "2015-01-09             NaN\n"
     ]
    }
   ],
   "source": [
    "Media_mov=panda.DataFrame(Media_mov)\n",
    "Media_mov.sort_index(inplace=True)\n",
    "print Media_mov.head(2)"
   ]
  },
  {
   "cell_type": "code",
   "execution_count": 81,
   "metadata": {
    "collapsed": false
   },
   "outputs": [
    {
     "name": "stdout",
     "output_type": "stream",
     "text": [
      "            Value_bitstamp\n",
      "Date                      \n",
      "2015-06-12      300.868673\n",
      "2015-07-08      300.828007\n",
      "2015-07-09      301.293340\n",
      "2015-07-10      301.524340\n",
      "2015-07-11      303.517340\n",
      "2015-07-12      304.593010\n",
      "2015-07-19      304.403677\n",
      "2015-07-20      306.026677\n",
      "2015-07-21      307.423343\n",
      "2015-07-22      304.510010\n"
     ]
    }
   ],
   "source": [
    "Media_mov=Media_mov.dropna()\n",
    "print Media_mov.head(10)"
   ]
  },
  {
   "cell_type": "code",
   "execution_count": 82,
   "metadata": {
    "collapsed": false
   },
   "outputs": [
    {
     "data": {
      "text/plain": [
       "<matplotlib.axes._subplots.AxesSubplot at 0x88a2438>"
      ]
     },
     "execution_count": 82,
     "metadata": {},
     "output_type": "execute_result"
    },
    {
     "data": {
      "image/png": "[encoded data removed]",
      "text/plain": [
       "<matplotlib.figure.Figure at 0xb18e7b8>"
      ]
     },
     "metadata": {},
     "output_type": "display_data"
    }
   ],
   "source": [
    "%matplotlib inline\n",
    "Media_mov.plot()"
   ]
  },
  {
   "cell_type": "code",
   "execution_count": 40,
   "metadata": {
    "collapsed": true
   },
   "outputs": [],
   "source": [
    "#Obtén el máximo “spread” (diferencia para el mismo día en los diferentes exchanges) del precio de bitcoin"
   ]
  },
  {
   "cell_type": "code",
   "execution_count": 41,
   "metadata": {
    "collapsed": false
   },
   "outputs": [
    {
     "name": "stdout",
     "output_type": "stream",
     "text": [
      "            Value_bitstamp  Value_bicoin  Value_itbit\n",
      "Date                                                 \n",
      "2015-01-08          281.03        281.83       280.25\n",
      "2015-01-09          226.95        227.16       226.83\n"
     ]
    }
   ],
   "source": [
    "print bitall.head(2)"
   ]
  },
  {
   "cell_type": "code",
   "execution_count": 42,
   "metadata": {
    "collapsed": false
   },
   "outputs": [
    {
     "name": "stdout",
     "output_type": "stream",
     "text": [
      "Date\n",
      "2015-01-08    0.78\n",
      "2015-01-09    0.12\n",
      "dtype: float64\n"
     ]
    }
   ],
   "source": [
    "stamp_bit = bitall['Value_bitstamp'] - bitall['Value_itbit']\n",
    "print stamp_bit.head(2)"
   ]
  },
  {
   "cell_type": "code",
   "execution_count": 43,
   "metadata": {
    "collapsed": false
   },
   "outputs": [
    {
     "name": "stdout",
     "output_type": "stream",
     "text": [
      "            Value_bitstamp  Value_bicoin  Value_itbit  stamp_bit\n",
      "Date                                                            \n",
      "2015-01-08          281.03        281.83       280.25       0.78\n",
      "2015-01-09          226.95        227.16       226.83       0.12\n",
      "2015-01-10          238.18        238.97       238.40      -0.22\n"
     ]
    }
   ],
   "source": [
    "bitall[\"stamp_bit\"]=stamp_bit\n",
    "\n",
    "print bitall.head(3)"
   ]
  },
  {
   "cell_type": "code",
   "execution_count": 44,
   "metadata": {
    "collapsed": false
   },
   "outputs": [
    {
     "data": {
      "text/html": [
       "<div>\n",
       "<table border=\"1\" class=\"dataframe\">\n",
       "  <thead>\n",
       "    <tr style=\"text-align: right;\">\n",
       "      <th></th>\n",
       "      <th>Value_bitstamp</th>\n",
       "      <th>Value_bicoin</th>\n",
       "      <th>Value_itbit</th>\n",
       "      <th>stamp_bit</th>\n",
       "      <th>stamp_coin</th>\n",
       "      <th>coin_it</th>\n",
       "    </tr>\n",
       "    <tr>\n",
       "      <th>Date</th>\n",
       "      <th></th>\n",
       "      <th></th>\n",
       "      <th></th>\n",
       "      <th></th>\n",
       "      <th></th>\n",
       "      <th></th>\n",
       "    </tr>\n",
       "  </thead>\n",
       "  <tbody>\n",
       "    <tr>\n",
       "      <th>2015-01-08</th>\n",
       "      <td>281.03</td>\n",
       "      <td>281.83</td>\n",
       "      <td>280.25</td>\n",
       "      <td>0.78</td>\n",
       "      <td>-0.80</td>\n",
       "      <td>1.58</td>\n",
       "    </tr>\n",
       "    <tr>\n",
       "      <th>2015-01-09</th>\n",
       "      <td>226.95</td>\n",
       "      <td>227.16</td>\n",
       "      <td>226.83</td>\n",
       "      <td>0.12</td>\n",
       "      <td>-0.21</td>\n",
       "      <td>0.33</td>\n",
       "    </tr>\n",
       "    <tr>\n",
       "      <th>2015-01-10</th>\n",
       "      <td>238.18</td>\n",
       "      <td>238.97</td>\n",
       "      <td>238.40</td>\n",
       "      <td>-0.22</td>\n",
       "      <td>-0.79</td>\n",
       "      <td>0.57</td>\n",
       "    </tr>\n",
       "    <tr>\n",
       "      <th>2015-01-11</th>\n",
       "      <td>324.05</td>\n",
       "      <td>327.22</td>\n",
       "      <td>326.58</td>\n",
       "      <td>-2.53</td>\n",
       "      <td>-3.17</td>\n",
       "      <td>0.64</td>\n",
       "    </tr>\n",
       "    <tr>\n",
       "      <th>2015-01-12</th>\n",
       "      <td>360.93</td>\n",
       "      <td>360.40</td>\n",
       "      <td>362.94</td>\n",
       "      <td>-2.01</td>\n",
       "      <td>0.53</td>\n",
       "      <td>-2.54</td>\n",
       "    </tr>\n",
       "    <tr>\n",
       "      <th>2015-02-08</th>\n",
       "      <td>281.77</td>\n",
       "      <td>282.70</td>\n",
       "      <td>281.26</td>\n",
       "      <td>0.51</td>\n",
       "      <td>-0.93</td>\n",
       "      <td>1.44</td>\n",
       "    </tr>\n",
       "    <tr>\n",
       "      <th>2015-02-09</th>\n",
       "      <td>229.04</td>\n",
       "      <td>229.52</td>\n",
       "      <td>229.13</td>\n",
       "      <td>-0.09</td>\n",
       "      <td>-0.48</td>\n",
       "      <td>0.39</td>\n",
       "    </tr>\n",
       "    <tr>\n",
       "      <th>2015-02-10</th>\n",
       "      <td>237.62</td>\n",
       "      <td>237.82</td>\n",
       "      <td>237.67</td>\n",
       "      <td>-0.05</td>\n",
       "      <td>-0.20</td>\n",
       "      <td>0.15</td>\n",
       "    </tr>\n",
       "    <tr>\n",
       "      <th>2015-02-11</th>\n",
       "      <td>364.00</td>\n",
       "      <td>364.12</td>\n",
       "      <td>352.83</td>\n",
       "      <td>11.17</td>\n",
       "      <td>-0.12</td>\n",
       "      <td>11.29</td>\n",
       "    </tr>\n",
       "    <tr>\n",
       "      <th>2015-02-12</th>\n",
       "      <td>361.58</td>\n",
       "      <td>360.80</td>\n",
       "      <td>360.49</td>\n",
       "      <td>1.09</td>\n",
       "      <td>0.78</td>\n",
       "      <td>0.31</td>\n",
       "    </tr>\n",
       "  </tbody>\n",
       "</table>\n",
       "</div>"
      ],
      "text/plain": [
       "            Value_bitstamp  Value_bicoin  Value_itbit  stamp_bit  stamp_coin  \\\n",
       "Date                                                                           \n",
       "2015-01-08          281.03        281.83       280.25       0.78       -0.80   \n",
       "2015-01-09          226.95        227.16       226.83       0.12       -0.21   \n",
       "2015-01-10          238.18        238.97       238.40      -0.22       -0.79   \n",
       "2015-01-11          324.05        327.22       326.58      -2.53       -3.17   \n",
       "2015-01-12          360.93        360.40       362.94      -2.01        0.53   \n",
       "2015-02-08          281.77        282.70       281.26       0.51       -0.93   \n",
       "2015-02-09          229.04        229.52       229.13      -0.09       -0.48   \n",
       "2015-02-10          237.62        237.82       237.67      -0.05       -0.20   \n",
       "2015-02-11          364.00        364.12       352.83      11.17       -0.12   \n",
       "2015-02-12          361.58        360.80       360.49       1.09        0.78   \n",
       "\n",
       "            coin_it  \n",
       "Date                 \n",
       "2015-01-08     1.58  \n",
       "2015-01-09     0.33  \n",
       "2015-01-10     0.57  \n",
       "2015-01-11     0.64  \n",
       "2015-01-12    -2.54  \n",
       "2015-02-08     1.44  \n",
       "2015-02-09     0.39  \n",
       "2015-02-10     0.15  \n",
       "2015-02-11    11.29  \n",
       "2015-02-12     0.31  "
      ]
     },
     "execution_count": 44,
     "metadata": {},
     "output_type": "execute_result"
    }
   ],
   "source": [
    "stamp_coin = bitall['Value_bitstamp'] - bitall['Value_bicoin']\n",
    "bitall[\"stamp_coin\"]=stamp_coin\n",
    "coin_it = bitall['Value_bicoin'] - bitall['Value_itbit']\n",
    "bitall[\"coin_it\"]=coin_it\n",
    "\n",
    "bitall.head(10)"
   ]
  },
  {
   "cell_type": "code",
   "execution_count": 45,
   "metadata": {
    "collapsed": false
   },
   "outputs": [
    {
     "name": "stdout",
     "output_type": "stream",
     "text": [
      "49.5399\n"
     ]
    }
   ],
   "source": [
    "# este es el spred máximo entre bitStamp y itbit\n",
    "stamp_bit_max= bitall[\"stamp_bit\"].abs().max()\n",
    "print stamp_bit_max"
   ]
  },
  {
   "cell_type": "code",
   "execution_count": 46,
   "metadata": {
    "collapsed": false
   },
   "outputs": [
    {
     "name": "stdout",
     "output_type": "stream",
     "text": [
      "14.3301\n"
     ]
    }
   ],
   "source": [
    "# este es el spred máximo entre bitStamp y coinbase\n",
    "stamp_coin_max= bitall[\"stamp_coin\"].abs().max()\n",
    "print stamp_coin_max"
   ]
  },
  {
   "cell_type": "code",
   "execution_count": 47,
   "metadata": {
    "collapsed": false
   },
   "outputs": [
    {
     "name": "stdout",
     "output_type": "stream",
     "text": [
      "48.24\n"
     ]
    }
   ],
   "source": [
    "# este es el spred máximo entre coinbase y itbit\n",
    "\n",
    "coin_it_max= bitall[\"coin_it\"].abs().max()\n",
    "print coin_it_max"
   ]
  },
  {
   "cell_type": "code",
   "execution_count": 48,
   "metadata": {
    "collapsed": true
   },
   "outputs": [],
   "source": [
    "# y el “spread medio” para todo el periodo."
   ]
  },
  {
   "cell_type": "code",
   "execution_count": 84,
   "metadata": {
    "collapsed": false
   },
   "outputs": [
    {
     "name": "stdout",
     "output_type": "stream",
     "text": [
      "-0.31628715847\n"
     ]
    }
   ],
   "source": [
    "# este es el spread medio entre bitStamp y itbit\n",
    "stamp_bit_med= bitall[\"stamp_bit\"].mean()\n",
    "print stamp_bit_med"
   ]
  },
  {
   "cell_type": "code",
   "execution_count": 86,
   "metadata": {
    "collapsed": false
   },
   "outputs": [
    {
     "name": "stdout",
     "output_type": "stream",
     "text": [
      "-1.09141803279\n"
     ]
    }
   ],
   "source": [
    "# este es el spread medio entre bitStamp y coinbase\n",
    "stamp_coin_med= bitall[\"stamp_coin\"].mean()\n",
    "print stamp_coin_med"
   ]
  },
  {
   "cell_type": "code",
   "execution_count": 90,
   "metadata": {
    "collapsed": false
   },
   "outputs": [
    {
     "name": "stdout",
     "output_type": "stream",
     "text": [
      "0.775130874317\n"
     ]
    }
   ],
   "source": [
    "# este es el spread medio entre coinbase y itbit\n",
    "coin_it_med= bitall[\"coin_it\"].mean()\n",
    "print coin_it_med\n"
   ]
  },
  {
   "cell_type": "code",
   "execution_count": 52,
   "metadata": {
    "collapsed": true
   },
   "outputs": [],
   "source": [
    "# Crea gráficos que los comparen dos a dos, y que muestren con alguna indicación gráfica"
   ]
  },
  {
   "cell_type": "code",
   "execution_count": 53,
   "metadata": {
    "collapsed": false
   },
   "outputs": [
    {
     "data": {
      "text/plain": [
       "<matplotlib.axes._subplots.AxesSubplot at 0x88a2b70>"
      ]
     },
     "execution_count": 53,
     "metadata": {},
     "output_type": "execute_result"
    },
    {
     "data": {
      "image/png": "[encoded data removed]",
      "text/plain": [
       "<matplotlib.figure.Figure at 0x8881eb8>"
      ]
     },
     "metadata": {},
     "output_type": "display_data"
    }
   ],
   "source": [
    "# Gráfica spread entre bitStamp y itbit\n",
    "\n",
    "%matplotlib inline\n",
    "stamp_bit.plot()"
   ]
  },
  {
   "cell_type": "code",
   "execution_count": 54,
   "metadata": {
    "collapsed": false
   },
   "outputs": [
    {
     "data": {
      "text/plain": [
       "<matplotlib.axes._subplots.AxesSubplot at 0xa8864a8>"
      ]
     },
     "execution_count": 54,
     "metadata": {},
     "output_type": "execute_result"
    },
    {
     "data": {
      "image/png": "[encoded data removed]",
      "text/plain": [
       "<matplotlib.figure.Figure at 0xa8b8160>"
      ]
     },
     "metadata": {},
     "output_type": "display_data"
    }
   ],
   "source": [
    "# Gráfica spread entre bitStamp y coinbase\n",
    "\n",
    "%matplotlib inline\n",
    "stamp_coin.plot()\n"
   ]
  },
  {
   "cell_type": "code",
   "execution_count": 104,
   "metadata": {
    "collapsed": false
   },
   "outputs": [
    {
     "data": {
      "text/plain": [
       "<matplotlib.axes._subplots.AxesSubplot at 0xe15bf28>"
      ]
     },
     "execution_count": 104,
     "metadata": {},
     "output_type": "execute_result"
    },
    {
     "data": {
      "image/png": "[encoded data removed]",
      "text/plain": [
       "<matplotlib.figure.Figure at 0xdebe208>"
      ]
     },
     "metadata": {},
     "output_type": "display_data"
    }
   ],
   "source": [
    "# Gráfica spread entre coinbase y itbit\n",
    "\n",
    "%matplotlib inline\n",
    "coin_it.plot()\n",
    "\n"
   ]
  },
  {
   "cell_type": "code",
   "execution_count": 93,
   "metadata": {
    "collapsed": false
   },
   "outputs": [],
   "source": [
    "# que muestren con alguna indicación gráfica (por ejemplo, un punto de otro color) los días de mayor “spread”."
   ]
  },
  {
   "cell_type": "code",
   "execution_count": 116,
   "metadata": {
    "collapsed": false
   },
   "outputs": [
    {
     "data": {
      "text/plain": [
       "<matplotlib.axes._subplots.AxesSubplot at 0xf67cb70>"
      ]
     },
     "execution_count": 116,
     "metadata": {},
     "output_type": "execute_result"
    },
    {
     "data": {
      "image/png": "[encoded data removed]",
      "text/plain": [
       "<matplotlib.figure.Figure at 0xf12a7b8>"
      ]
     },
     "metadata": {},
     "output_type": "display_data"
    }
   ],
   "source": [
    "# Gráfica spread entre bitStamp y itbit con resaltador de valores más de spread mayores de 10\n",
    "\n",
    "%matplotlib inline\n",
    "spreadmax=bitall.loc[bitall['stamp_bit'] >=10]\n",
    "line2=plt.plot(spreadmax['stamp_bit'], 's')\n",
    "plt.setp(line2,color=\"y\",)\n",
    "stamp_bit.plot()"
   ]
  },
  {
   "cell_type": "code",
   "execution_count": 115,
   "metadata": {
    "collapsed": false
   },
   "outputs": [
    {
     "data": {
      "text/plain": [
       "<matplotlib.axes._subplots.AxesSubplot at 0x105c6748>"
      ]
     },
     "execution_count": 115,
     "metadata": {},
     "output_type": "execute_result"
    },
    {
     "data": {
      "image/png": "[encoded data removed]",
      "text/plain": [
       "<matplotlib.figure.Figure at 0x105d1ac8>"
      ]
     },
     "metadata": {},
     "output_type": "display_data"
    }
   ],
   "source": [
    "# Gráfica spread entre bitStamp y coinbase con resaltador de valores más de spread mayores de 2\n",
    "\n",
    "\n",
    "%matplotlib inline\n",
    "spreadmax=bitall.loc[bitall['stamp_coin'] >=2]\n",
    "line2=plt.plot(spreadmax['stamp_coin'], 's')\n",
    "plt.setp(line2,color=\"b\",)\n",
    "stamp_coin.plot()\n"
   ]
  },
  {
   "cell_type": "code",
   "execution_count": 117,
   "metadata": {
    "collapsed": false
   },
   "outputs": [
    {
     "data": {
      "text/plain": [
       "<matplotlib.axes._subplots.AxesSubplot at 0xf29c748>"
      ]
     },
     "execution_count": 117,
     "metadata": {},
     "output_type": "execute_result"
    },
    {
     "data": {
      "image/png": "[encoded data removed]",
      "text/plain": [
       "<matplotlib.figure.Figure at 0xf5c53c8>"
      ]
     },
     "metadata": {},
     "output_type": "display_data"
    }
   ],
   "source": [
    "# Gráfica spread entre bitStamp y coinbase con resaltador de valores más de spread mayores de 6\n",
    "\n",
    "%matplotlib inline\n",
    "spreadmax=bitall.loc[bitall['coin_it'] >=6]\n",
    "line2=plt.plot(spreadmax['coin_it'], 's')\n",
    "plt.setp(line2,color=\"r\",)\n",
    "coin_it.plot()\n"
   ]
  },
  {
   "cell_type": "code",
   "execution_count": null,
   "metadata": {
    "collapsed": false
   },
   "outputs": [],
   "source": []
  },
  {
   "cell_type": "code",
   "execution_count": null,
   "metadata": {
    "collapsed": true
   },
   "outputs": [],
   "source": []
  }
 ],
 "metadata": {
  "kernelspec": {
   "display_name": "Python 2",
   "language": "python",
   "name": "python2"
  },
  "language_info": {
   "codemirror_mode": {
    "name": "ipython",
    "version": 2
   },
   "file_extension": ".py",
   "mimetype": "text/x-python",
   "name": "python",
   "nbconvert_exporter": "python",
   "pygments_lexer": "ipython2",
   "version": "2.7.11"
  }
 },
 "nbformat": 4,
 "nbformat_minor": 0
}
